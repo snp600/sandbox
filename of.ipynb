{
 "cells": [
  {
   "cell_type": "code",
   "execution_count": 1,
   "metadata": {},
   "outputs": [],
   "source": [
    "import pandas as pd\n",
    "import numpy as np\n",
    "import seaborn as sns\n",
    "import gc\n",
    "import matplotlib.pyplot as plt\n",
    "\n",
    "%matplotlib inline"
   ]
  },
  {
   "cell_type": "code",
   "execution_count": 2,
   "metadata": {},
   "outputs": [],
   "source": [
    "import warnings\n",
    "warnings.filterwarnings(\"ignore\")"
   ]
  },
  {
   "cell_type": "code",
   "execution_count": 3,
   "metadata": {},
   "outputs": [],
   "source": [
    "df = pd.read_csv('data.csv', sep=';')\n",
    "etl = pd.read_csv('etalon.csv', sep=';')"
   ]
  },
  {
   "cell_type": "code",
   "execution_count": 4,
   "metadata": {},
   "outputs": [],
   "source": [
    "df1 = df[df.fulldate<'2018-09-15']\n",
    "df2 = df[df.fulldate>'2018-09-15']"
   ]
  },
  {
   "cell_type": "code",
   "execution_count": 5,
   "metadata": {},
   "outputs": [
    {
     "name": "stdout",
     "output_type": "stream",
     "text": [
      "(9153692, 5)\n"
     ]
    },
    {
     "data": {
      "text/html": [
       "<div>\n",
       "<style scoped>\n",
       "    .dataframe tbody tr th:only-of-type {\n",
       "        vertical-align: middle;\n",
       "    }\n",
       "\n",
       "    .dataframe tbody tr th {\n",
       "        vertical-align: top;\n",
       "    }\n",
       "\n",
       "    .dataframe thead th {\n",
       "        text-align: right;\n",
       "    }\n",
       "</style>\n",
       "<table border=\"1\" class=\"dataframe\">\n",
       "  <thead>\n",
       "    <tr style=\"text-align: right;\">\n",
       "      <th></th>\n",
       "      <th>lac</th>\n",
       "      <th>cid</th>\n",
       "      <th>ts</th>\n",
       "      <th>fulldate</th>\n",
       "      <th>hash_id</th>\n",
       "    </tr>\n",
       "  </thead>\n",
       "  <tbody>\n",
       "    <tr>\n",
       "      <th>0</th>\n",
       "      <td>7755</td>\n",
       "      <td>35950</td>\n",
       "      <td>1.536391e+09</td>\n",
       "      <td>2018-09-13</td>\n",
       "      <td>1361396</td>\n",
       "    </tr>\n",
       "    <tr>\n",
       "      <th>1</th>\n",
       "      <td>7755</td>\n",
       "      <td>35950</td>\n",
       "      <td>1.536391e+09</td>\n",
       "      <td>2018-09-14</td>\n",
       "      <td>1361396</td>\n",
       "    </tr>\n",
       "    <tr>\n",
       "      <th>2</th>\n",
       "      <td>7752</td>\n",
       "      <td>19203</td>\n",
       "      <td>1.535967e+09</td>\n",
       "      <td>2018-09-04</td>\n",
       "      <td>1361396</td>\n",
       "    </tr>\n",
       "    <tr>\n",
       "      <th>3</th>\n",
       "      <td>7755</td>\n",
       "      <td>35950</td>\n",
       "      <td>1.536391e+09</td>\n",
       "      <td>2018-09-09</td>\n",
       "      <td>1361396</td>\n",
       "    </tr>\n",
       "    <tr>\n",
       "      <th>4</th>\n",
       "      <td>7752</td>\n",
       "      <td>19203</td>\n",
       "      <td>1.535967e+09</td>\n",
       "      <td>2018-09-05</td>\n",
       "      <td>1361396</td>\n",
       "    </tr>\n",
       "  </tbody>\n",
       "</table>\n",
       "</div>"
      ],
      "text/plain": [
       "    lac    cid            ts    fulldate  hash_id\n",
       "0  7755  35950  1.536391e+09  2018-09-13  1361396\n",
       "1  7755  35950  1.536391e+09  2018-09-14  1361396\n",
       "2  7752  19203  1.535967e+09  2018-09-04  1361396\n",
       "3  7755  35950  1.536391e+09  2018-09-09  1361396\n",
       "4  7752  19203  1.535967e+09  2018-09-05  1361396"
      ]
     },
     "execution_count": 5,
     "metadata": {},
     "output_type": "execute_result"
    }
   ],
   "source": [
    "print(df.shape)\n",
    "df.head()"
   ]
  },
  {
   "cell_type": "code",
   "execution_count": 6,
   "metadata": {},
   "outputs": [
    {
     "name": "stdout",
     "output_type": "stream",
     "text": [
      "(491, 2)\n"
     ]
    },
    {
     "data": {
      "text/html": [
       "<div>\n",
       "<style scoped>\n",
       "    .dataframe tbody tr th:only-of-type {\n",
       "        vertical-align: middle;\n",
       "    }\n",
       "\n",
       "    .dataframe tbody tr th {\n",
       "        vertical-align: top;\n",
       "    }\n",
       "\n",
       "    .dataframe thead th {\n",
       "        text-align: right;\n",
       "    }\n",
       "</style>\n",
       "<table border=\"1\" class=\"dataframe\">\n",
       "  <thead>\n",
       "    <tr style=\"text-align: right;\">\n",
       "      <th></th>\n",
       "      <th>id1</th>\n",
       "      <th>id2</th>\n",
       "    </tr>\n",
       "  </thead>\n",
       "  <tbody>\n",
       "    <tr>\n",
       "      <th>0</th>\n",
       "      <td>1361396</td>\n",
       "      <td>2695335</td>\n",
       "    </tr>\n",
       "    <tr>\n",
       "      <th>1</th>\n",
       "      <td>1795864</td>\n",
       "      <td>2458905</td>\n",
       "    </tr>\n",
       "    <tr>\n",
       "      <th>2</th>\n",
       "      <td>1543059</td>\n",
       "      <td>2730453</td>\n",
       "    </tr>\n",
       "    <tr>\n",
       "      <th>3</th>\n",
       "      <td>1028066</td>\n",
       "      <td>2539971</td>\n",
       "    </tr>\n",
       "    <tr>\n",
       "      <th>4</th>\n",
       "      <td>1533076</td>\n",
       "      <td>2712514</td>\n",
       "    </tr>\n",
       "  </tbody>\n",
       "</table>\n",
       "</div>"
      ],
      "text/plain": [
       "       id1      id2\n",
       "0  1361396  2695335\n",
       "1  1795864  2458905\n",
       "2  1543059  2730453\n",
       "3  1028066  2539971\n",
       "4  1533076  2712514"
      ]
     },
     "execution_count": 6,
     "metadata": {},
     "output_type": "execute_result"
    }
   ],
   "source": [
    "print(etl.shape)\n",
    "etl.head()"
   ]
  },
  {
   "cell_type": "code",
   "execution_count": 7,
   "metadata": {},
   "outputs": [],
   "source": [
    "#statistics of intersections for 'hash1'\n",
    "def naive_intersections(lacs_a, cids_a, df, alpha=3.0):\n",
    "    intersections_df = pd.DataFrame(\n",
    "        columns=[\"hash_id\", \"lac_coef\", \"cid_coef\", \"wsum\"]\n",
    "    )\n",
    "\n",
    "    # better to rewrite via groupby\n",
    "    hash_ids = df.hash_id.unique()\n",
    "    i = 0\n",
    "    for hash_id in hash_ids:\n",
    "        lacs_b = set(df[df.hash_id == hash_id].lac.unique())\n",
    "        cids_b = set(df[df.hash_id == hash_id].cid.unique())\n",
    "\n",
    "        tmp1 = len(lacs_a.intersection(lacs_b))\n",
    "        tmp2 = len(cids_a.intersection(cids_b))\n",
    "        sum1 = len(lacs_a) + len(lacs_b)\n",
    "        sum2 = len(cids_a) + len(cids_b)\n",
    "        lac_coef = tmp1 / sum1\n",
    "        sid_coef = tmp2 / sum2\n",
    "\n",
    "        intersections_df.loc[i] = [\n",
    "            hash_id,\n",
    "            lac_coef,\n",
    "            sid_coef,\n",
    "            lac_coef + alpha * sid_coef\n",
    "        ]\n",
    "        i += 1\n",
    "\n",
    "    return intersections_df"
   ]
  },
  {
   "cell_type": "code",
   "execution_count": 10,
   "metadata": {},
   "outputs": [
    {
     "name": "stdout",
     "output_type": "stream",
     "text": [
      "CPU times: user 30.8 s, sys: 18.2 ms, total: 30.9 s\n",
      "Wall time: 30.9 s\n"
     ]
    }
   ],
   "source": [
    "%%time\n",
    "#check for the first hash_id from etalon.csv\n",
    "hash_id = 1361396 #id2 should be 2695335\n",
    "lacs_a = set(df[df.hash_id==hash_id].lac.unique())\n",
    "cids_a = set(df[df.hash_id==hash_id].cid.unique())\n",
    "res = naive_intersections(lacs_a, cids_a, df2).sort_values('wsum', ascending=False).reset_index(drop=True)"
   ]
  },
  {
   "cell_type": "code",
   "execution_count": 9,
   "metadata": {},
   "outputs": [
    {
     "data": {
      "text/html": [
       "<div>\n",
       "<style scoped>\n",
       "    .dataframe tbody tr th:only-of-type {\n",
       "        vertical-align: middle;\n",
       "    }\n",
       "\n",
       "    .dataframe tbody tr th {\n",
       "        vertical-align: top;\n",
       "    }\n",
       "\n",
       "    .dataframe thead th {\n",
       "        text-align: right;\n",
       "    }\n",
       "</style>\n",
       "<table border=\"1\" class=\"dataframe\">\n",
       "  <thead>\n",
       "    <tr style=\"text-align: right;\">\n",
       "      <th></th>\n",
       "      <th>index</th>\n",
       "      <th>hash_id</th>\n",
       "      <th>lac_coef</th>\n",
       "      <th>cid_coef</th>\n",
       "      <th>wsum</th>\n",
       "    </tr>\n",
       "  </thead>\n",
       "  <tbody>\n",
       "    <tr>\n",
       "      <th>0</th>\n",
       "      <td>0</td>\n",
       "      <td>2695335.0</td>\n",
       "      <td>0.250000</td>\n",
       "      <td>0.300000</td>\n",
       "      <td>1.150000</td>\n",
       "    </tr>\n",
       "    <tr>\n",
       "      <th>1</th>\n",
       "      <td>24</td>\n",
       "      <td>2974960.0</td>\n",
       "      <td>0.222222</td>\n",
       "      <td>0.027397</td>\n",
       "      <td>0.304414</td>\n",
       "    </tr>\n",
       "    <tr>\n",
       "      <th>2</th>\n",
       "      <td>2233</td>\n",
       "      <td>2091058.0</td>\n",
       "      <td>0.250000</td>\n",
       "      <td>0.010526</td>\n",
       "      <td>0.281579</td>\n",
       "    </tr>\n",
       "    <tr>\n",
       "      <th>3</th>\n",
       "      <td>2184</td>\n",
       "      <td>2698988.0</td>\n",
       "      <td>0.200000</td>\n",
       "      <td>0.022989</td>\n",
       "      <td>0.268966</td>\n",
       "    </tr>\n",
       "    <tr>\n",
       "      <th>4</th>\n",
       "      <td>2213</td>\n",
       "      <td>2473592.0</td>\n",
       "      <td>0.142857</td>\n",
       "      <td>0.040816</td>\n",
       "      <td>0.265306</td>\n",
       "    </tr>\n",
       "  </tbody>\n",
       "</table>\n",
       "</div>"
      ],
      "text/plain": [
       "   index    hash_id  lac_coef  cid_coef      wsum\n",
       "0      0  2695335.0  0.250000  0.300000  1.150000\n",
       "1     24  2974960.0  0.222222  0.027397  0.304414\n",
       "2   2233  2091058.0  0.250000  0.010526  0.281579\n",
       "3   2184  2698988.0  0.200000  0.022989  0.268966\n",
       "4   2213  2473592.0  0.142857  0.040816  0.265306"
      ]
     },
     "execution_count": 9,
     "metadata": {},
     "output_type": "execute_result"
    }
   ],
   "source": [
    "res.head()"
   ]
  },
  {
   "cell_type": "markdown",
   "metadata": {},
   "source": [
    "# Check accuracy for 'etalon.csv' data"
   ]
  },
  {
   "cell_type": "code",
   "execution_count": 11,
   "metadata": {},
   "outputs": [],
   "source": [
    "#it should not be considered as check accuracy for train data because it is supervised learning so we don't fit anything\n",
    "#accuracy should be the same for 'etalon' and 'test' data"
   ]
  },
  {
   "cell_type": "code",
   "execution_count": 12,
   "metadata": {},
   "outputs": [],
   "source": [
    "hash_ids1 = etl.id1.values\n",
    "hash_ids2 = etl.id2.values\n",
    "\n",
    "subdf1 = df1[df1.hash_id.isin(hash_ids1)]\n",
    "subdf2 = df2[df2.hash_id.isin(hash_ids2)]"
   ]
  },
  {
   "cell_type": "code",
   "execution_count": 13,
   "metadata": {},
   "outputs": [],
   "source": [
    "preds_df = etl.copy().reset_index(drop=True)"
   ]
  },
  {
   "cell_type": "code",
   "execution_count": 14,
   "metadata": {},
   "outputs": [
    {
     "data": {
      "text/html": [
       "<div>\n",
       "<style scoped>\n",
       "    .dataframe tbody tr th:only-of-type {\n",
       "        vertical-align: middle;\n",
       "    }\n",
       "\n",
       "    .dataframe tbody tr th {\n",
       "        vertical-align: top;\n",
       "    }\n",
       "\n",
       "    .dataframe thead th {\n",
       "        text-align: right;\n",
       "    }\n",
       "</style>\n",
       "<table border=\"1\" class=\"dataframe\">\n",
       "  <thead>\n",
       "    <tr style=\"text-align: right;\">\n",
       "      <th></th>\n",
       "      <th>id1</th>\n",
       "      <th>id2</th>\n",
       "    </tr>\n",
       "  </thead>\n",
       "  <tbody>\n",
       "    <tr>\n",
       "      <th>0</th>\n",
       "      <td>1361396</td>\n",
       "      <td>2695335</td>\n",
       "    </tr>\n",
       "    <tr>\n",
       "      <th>1</th>\n",
       "      <td>1795864</td>\n",
       "      <td>2458905</td>\n",
       "    </tr>\n",
       "    <tr>\n",
       "      <th>2</th>\n",
       "      <td>1543059</td>\n",
       "      <td>2730453</td>\n",
       "    </tr>\n",
       "    <tr>\n",
       "      <th>3</th>\n",
       "      <td>1028066</td>\n",
       "      <td>2539971</td>\n",
       "    </tr>\n",
       "    <tr>\n",
       "      <th>4</th>\n",
       "      <td>1533076</td>\n",
       "      <td>2712514</td>\n",
       "    </tr>\n",
       "  </tbody>\n",
       "</table>\n",
       "</div>"
      ],
      "text/plain": [
       "       id1      id2\n",
       "0  1361396  2695335\n",
       "1  1795864  2458905\n",
       "2  1543059  2730453\n",
       "3  1028066  2539971\n",
       "4  1533076  2712514"
      ]
     },
     "execution_count": 14,
     "metadata": {},
     "output_type": "execute_result"
    }
   ],
   "source": [
    "preds_df.head()"
   ]
  },
  {
   "cell_type": "code",
   "execution_count": 15,
   "metadata": {},
   "outputs": [],
   "source": [
    "def predict_ids(hash_ids, df1, df2, alpha=3.0):\n",
    "\n",
    "    n = len(hash_ids)\n",
    "    pred_ids = np.zeros(n)\n",
    "    confidences = np.zeros(n)\n",
    "\n",
    "    for i in range(n):\n",
    "        lacs_a = set(df1[df1.hash_id == hash_ids[i]].lac.unique())\n",
    "        cids_a = set(df1[df1.hash_id == hash_ids[i]].cid.unique())\n",
    "\n",
    "        res = (\n",
    "            naive_intersections(lacs_a, cids_a, df2, alpha=alpha)\n",
    "            .sort_values(\"wsum\", ascending=False)\n",
    "            .reset_index()\n",
    "        )\n",
    "        pred_ids[i] = res.loc[0].hash_id.astype(\"int\")\n",
    "        confidences[i] = res.loc[0].wsum - res.loc[1].wsum\n",
    "\n",
    "    return pred_ids, confidences"
   ]
  },
  {
   "cell_type": "code",
   "execution_count": 16,
   "metadata": {},
   "outputs": [
    {
     "name": "stdout",
     "output_type": "stream",
     "text": [
      "CPU times: user 14min 48s, sys: 479 ms, total: 14min 48s\n",
      "Wall time: 14min 48s\n"
     ]
    }
   ],
   "source": [
    "%%time\n",
    "preds_df[\"id2_prediction\"], preds_df[\"confidence\"] = predict_ids(\n",
    "    preds_df.id1.values, subdf1, subdf2\n",
    ")\n",
    "preds_df.id2_prediction = preds_df.id2_prediction.astype(\"int\")"
   ]
  },
  {
   "cell_type": "code",
   "execution_count": 17,
   "metadata": {},
   "outputs": [],
   "source": [
    "def check_accuracy(df):\n",
    "    acc = (df.id2 == df.id2_prediction).sum()\n",
    "    return acc / df.shape[0]"
   ]
  },
  {
   "cell_type": "code",
   "execution_count": 18,
   "metadata": {},
   "outputs": [
    {
     "data": {
      "text/plain": [
       "0.8757637474541752"
      ]
     },
     "execution_count": 18,
     "metadata": {},
     "output_type": "execute_result"
    }
   ],
   "source": [
    "check_accuracy(preds_df)\n",
    "# accuracy before correction (for 491 values with known answers)\n",
    "# -- it's not accuracy 'train': we have unsupervised learning so on test it should be the same result)"
   ]
  },
  {
   "cell_type": "code",
   "execution_count": 19,
   "metadata": {},
   "outputs": [
    {
     "data": {
      "text/plain": [
       "0.9885057471264368"
      ]
     },
     "execution_count": 19,
     "metadata": {},
     "output_type": "execute_result"
    }
   ],
   "source": [
    "check_accuracy(preds_df[preds_df.confidence>0.2])"
   ]
  },
  {
   "cell_type": "code",
   "execution_count": 20,
   "metadata": {},
   "outputs": [],
   "source": [
    "preds_df[\"correct\"] = preds_df.id2 == preds_df.id2_prediction"
   ]
  },
  {
   "cell_type": "code",
   "execution_count": 21,
   "metadata": {},
   "outputs": [
    {
     "data": {
      "image/png": "[encoded data removed]",
      "text/plain": [
       "<Figure size 432x288 with 1 Axes>"
      ]
     },
     "metadata": {
      "needs_background": "light"
     },
     "output_type": "display_data"
    }
   ],
   "source": [
    "preds_df[preds_df.correct==True].confidence.clip(0.0, 1.0).hist();"
   ]
  },
  {
   "cell_type": "code",
   "execution_count": 22,
   "metadata": {},
   "outputs": [
    {
     "data": {
      "image/png": "[encoded data removed]",
      "text/plain": [
       "<Figure size 432x288 with 1 Axes>"
      ]
     },
     "metadata": {
      "needs_background": "light"
     },
     "output_type": "display_data"
    }
   ],
   "source": [
    "preds_df[preds_df.correct==False].confidence.clip(0.0, 0.2).hist();"
   ]
  },
  {
   "cell_type": "code",
   "execution_count": 23,
   "metadata": {},
   "outputs": [],
   "source": [
    "confidence_threshold = 0.2\n",
    "preds_df_2 = preds_df[preds_df.confidence<confidence_threshold]"
   ]
  },
  {
   "cell_type": "code",
   "execution_count": 24,
   "metadata": {},
   "outputs": [
    {
     "name": "stdout",
     "output_type": "stream",
     "text": [
      "0.7478260869565218\n"
     ]
    }
   ],
   "source": [
    "acc = (preds_df_2.id2==preds_df_2.id2_prediction).sum()\n",
    "print(acc/preds_df_2.shape[0]) #accuracy for hash_ids with low confidence of prediction"
   ]
  },
  {
   "cell_type": "code",
   "execution_count": 25,
   "metadata": {},
   "outputs": [
    {
     "name": "stdout",
     "output_type": "stream",
     "text": [
      "CPU times: user 2min 49s, sys: 134 ms, total: 2min 49s\n",
      "Wall time: 2min 49s\n"
     ]
    }
   ],
   "source": [
    "%%time\n",
    "#correction for low-confidence hash_ids\n",
    "hash_ids_a = preds_df_2.id1.values\n",
    "hash_ids_b = preds_df_2.id2.values\n",
    "preds_df_2[\"id2_prediction_2\"], preds_df_2[\"confidence_2\"] = predict_ids(\n",
    "    preds_df_2.id1.values,\n",
    "    subdf1[subdf1.hash_id.isin(hash_ids_a)],\n",
    "    subdf2[subdf2.hash_id.isin(hash_ids_b)],\n",
    ")\n",
    "preds_df_2.id2_prediction = preds_df_2.id2_prediction.astype(\"int\")"
   ]
  },
  {
   "cell_type": "code",
   "execution_count": 27,
   "metadata": {},
   "outputs": [
    {
     "name": "stdout",
     "output_type": "stream",
     "text": [
      "0.8\n"
     ]
    }
   ],
   "source": [
    "acc = (preds_df_2.id2==preds_df_2.id2_prediction_2).sum()\n",
    "print(acc/preds_df_2.shape[0]) #accuracy after correction"
   ]
  },
  {
   "cell_type": "code",
   "execution_count": 28,
   "metadata": {},
   "outputs": [],
   "source": [
    "preds_df_2['correct_2'] = (preds_df_2.id2==preds_df_2.id2_prediction_2)"
   ]
  },
  {
   "cell_type": "code",
   "execution_count": 31,
   "metadata": {},
   "outputs": [
    {
     "name": "stdout",
     "output_type": "stream",
     "text": [
      "12\n",
      "0\n"
     ]
    }
   ],
   "source": [
    "print(len(preds_df_2[(preds_df_2.correct==False) & (preds_df_2.correct_2==True)])) #prediction became better\n",
    "print(len(preds_df_2[(preds_df_2.correct==True) & (preds_df_2.correct_2==False)])) #prediction became worse"
   ]
  },
  {
   "cell_type": "code",
   "execution_count": 32,
   "metadata": {},
   "outputs": [
    {
     "name": "stdout",
     "output_type": "stream",
     "text": [
      "0.90020366598778\n"
     ]
    }
   ],
   "source": [
    "tp = preds_df_2[(preds_df_2.correct==False) & (preds_df_2.correct_2==True)].shape[0]\n",
    "tn = preds_df_2[(preds_df_2.correct==True) & (preds_df_2.correct_2==False)].shape[0]\n",
    "\n",
    "acc = (preds_df.id2==preds_df.id2_prediction).sum() + tp - tn\n",
    "print(acc/preds_df.shape[0]) #final accuracy (for 491 values with known answers)"
   ]
  },
  {
   "cell_type": "markdown",
   "metadata": {},
   "source": [
    "# Test values"
   ]
  },
  {
   "cell_type": "code",
   "execution_count": 33,
   "metadata": {},
   "outputs": [],
   "source": [
    "df1_tst = df1[~df1.hash_id.isin(etl.id1)]\n",
    "df2_tst = df2[~df2.hash_id.isin(etl.id2)]"
   ]
  },
  {
   "cell_type": "code",
   "execution_count": 34,
   "metadata": {},
   "outputs": [
    {
     "name": "stdout",
     "output_type": "stream",
     "text": [
      "1757\n",
      "1803\n"
     ]
    }
   ],
   "source": [
    "print(len(df1_tst.hash_id.unique()))\n",
    "print(len(df2_tst.hash_id.unique()))"
   ]
  },
  {
   "cell_type": "code",
   "execution_count": 35,
   "metadata": {},
   "outputs": [],
   "source": [
    "results = pd.DataFrame(df1_tst.hash_id.unique(), columns=['id1'])"
   ]
  },
  {
   "cell_type": "code",
   "execution_count": 38,
   "metadata": {},
   "outputs": [
    {
     "name": "stdout",
     "output_type": "stream",
     "text": [
      "CPU times: user 19.7 s, sys: 17 ms, total: 19.7 s\n",
      "Wall time: 19.7 s\n"
     ]
    }
   ],
   "source": [
    "%%time \n",
    "# ~20s for 1 hash_id => ~10h for 1757 ids\n",
    "hash_id = 1693644\n",
    "lacs_a = set(df[df.hash_id==hash_id].lac.unique())\n",
    "cids_a = set(df[df.hash_id==hash_id].cid.unique())\n",
    "res = naive_intersections(lacs_a, cids_a, df2_tst).sort_values('wsum', ascending=False).reset_index(drop=True)"
   ]
  },
  {
   "cell_type": "code",
   "execution_count": 39,
   "metadata": {},
   "outputs": [
    {
     "data": {
      "text/html": [
       "<div>\n",
       "<style scoped>\n",
       "    .dataframe tbody tr th:only-of-type {\n",
       "        vertical-align: middle;\n",
       "    }\n",
       "\n",
       "    .dataframe tbody tr th {\n",
       "        vertical-align: top;\n",
       "    }\n",
       "\n",
       "    .dataframe thead th {\n",
       "        text-align: right;\n",
       "    }\n",
       "</style>\n",
       "<table border=\"1\" class=\"dataframe\">\n",
       "  <thead>\n",
       "    <tr style=\"text-align: right;\">\n",
       "      <th></th>\n",
       "      <th>hash_id</th>\n",
       "      <th>lac_coef</th>\n",
       "      <th>cid_coef</th>\n",
       "      <th>wsum</th>\n",
       "    </tr>\n",
       "  </thead>\n",
       "  <tbody>\n",
       "    <tr>\n",
       "      <th>0</th>\n",
       "      <td>2788947.0</td>\n",
       "      <td>0.386364</td>\n",
       "      <td>0.238095</td>\n",
       "      <td>1.100649</td>\n",
       "    </tr>\n",
       "    <tr>\n",
       "      <th>1</th>\n",
       "      <td>2056723.0</td>\n",
       "      <td>0.347826</td>\n",
       "      <td>0.175066</td>\n",
       "      <td>0.873025</td>\n",
       "    </tr>\n",
       "    <tr>\n",
       "      <th>2</th>\n",
       "      <td>2586281.0</td>\n",
       "      <td>0.340000</td>\n",
       "      <td>0.136929</td>\n",
       "      <td>0.750788</td>\n",
       "    </tr>\n",
       "    <tr>\n",
       "      <th>3</th>\n",
       "      <td>2111411.0</td>\n",
       "      <td>0.327273</td>\n",
       "      <td>0.139610</td>\n",
       "      <td>0.746104</td>\n",
       "    </tr>\n",
       "    <tr>\n",
       "      <th>4</th>\n",
       "      <td>2264030.0</td>\n",
       "      <td>0.351852</td>\n",
       "      <td>0.130261</td>\n",
       "      <td>0.742633</td>\n",
       "    </tr>\n",
       "  </tbody>\n",
       "</table>\n",
       "</div>"
      ],
      "text/plain": [
       "     hash_id  lac_coef  cid_coef      wsum\n",
       "0  2788947.0  0.386364  0.238095  1.100649\n",
       "1  2056723.0  0.347826  0.175066  0.873025\n",
       "2  2586281.0  0.340000  0.136929  0.750788\n",
       "3  2111411.0  0.327273  0.139610  0.746104\n",
       "4  2264030.0  0.351852  0.130261  0.742633"
      ]
     },
     "execution_count": 39,
     "metadata": {},
     "output_type": "execute_result"
    }
   ],
   "source": [
    "res.head()"
   ]
  },
  {
   "cell_type": "code",
   "execution_count": null,
   "metadata": {},
   "outputs": [],
   "source": [
    "%%time \n",
    "#confidence>0.2 is good (it is not from [0, 1])\n",
    "results['id2_prediction'], results['confidence'] = predict_ids(results.id1.values, df1_tst, df2_tst)\n",
    "results.id2_prediction = results.id2_prediction.astype('int')"
   ]
  },
  {
   "cell_type": "code",
   "execution_count": null,
   "metadata": {},
   "outputs": [],
   "source": [
    "results.to_csv('results.csv')"
   ]
  }
 ],
 "metadata": {
  "hide_input": false,
  "kernelspec": {
   "display_name": "Python 3",
   "language": "python",
   "name": "python3"
  },
  "language_info": {
   "codemirror_mode": {
    "name": "ipython",
    "version": 3
   },
   "file_extension": ".py",
   "mimetype": "text/x-python",
   "name": "python",
   "nbconvert_exporter": "python",
   "pygments_lexer": "ipython3",
   "version": "3.7.1"
  },
  "toc": {
   "base_numbering": 1,
   "nav_menu": {},
   "number_sections": true,
   "sideBar": true,
   "skip_h1_title": false,
   "title_cell": "Table of Contents",
   "title_sidebar": "Contents",
   "toc_cell": false,
   "toc_position": {},
   "toc_section_display": true,
   "toc_window_display": false
  }
 },
 "nbformat": 4,
 "nbformat_minor": 2
}
